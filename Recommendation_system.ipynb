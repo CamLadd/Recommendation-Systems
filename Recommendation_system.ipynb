{
  "nbformat": 4,
  "nbformat_minor": 0,
  "metadata": {
    "hide_input": false,
    "kernelspec": {
      "display_name": "learn-env",
      "language": "python",
      "name": "learn-env"
    },
    "language_info": {
      "codemirror_mode": {
        "name": "ipython",
        "version": 3
      },
      "file_extension": ".py",
      "mimetype": "text/x-python",
      "name": "python",
      "nbconvert_exporter": "python",
      "pygments_lexer": "ipython3",
      "version": "3.8.5"
    },
    "toc": {
      "base_numbering": 1,
      "nav_menu": {},
      "number_sections": true,
      "sideBar": true,
      "skip_h1_title": false,
      "title_cell": "Table of Contents",
      "title_sidebar": "Contents",
      "toc_cell": false,
      "toc_position": {},
      "toc_section_display": true,
      "toc_window_display": false
    },
    "varInspector": {
      "cols": {
        "lenName": 16,
        "lenType": 16,
        "lenVar": 40
      },
      "kernels_config": {
        "python": {
          "delete_cmd_postfix": "",
          "delete_cmd_prefix": "del ",
          "library": "var_list.py",
          "varRefreshCmd": "print(var_dic_list())"
        },
        "r": {
          "delete_cmd_postfix": ") ",
          "delete_cmd_prefix": "rm(",
          "library": "var_list.r",
          "varRefreshCmd": "cat(var_dic_list()) "
        }
      },
      "types_to_exclude": [
        "module",
        "function",
        "builtin_function_or_method",
        "instance",
        "_Feature"
      ],
      "window_display": false
    },
    "colab": {
      "name": "Recommendation_system.ipynb",
      "provenance": []
    }
  },
  "cells": [
    {
      "cell_type": "markdown",
      "metadata": {
        "id": "TOghmI4Wf-Oh"
      },
      "source": [
        "# MOVIELENS RECOMMENDATION SYSTEM: Collaborative and Content-Based"
      ]
    },
    {
      "cell_type": "markdown",
      "metadata": {
        "id": "ulwBgIMDf-Oi"
      },
      "source": [
        "# Load Libraries and Data"
      ]
    },
    {
      "cell_type": "code",
      "metadata": {
        "ExecuteTime": {
          "end_time": "2021-06-04T14:20:12.089647Z",
          "start_time": "2021-06-04T14:20:09.524126Z"
        },
        "id": "_qTde7xXf-Oi"
      },
      "source": [
        "import pandas as pd\n",
        "\n",
        "import numpy as np\n",
        "\n",
        "import matplotlib.pyplot as plt\n",
        "plt.style.use('dark_background')\n",
        "\n",
        "import plotly.express as px\n",
        "import plotly.io as pio\n",
        "pio.templates.default = 'plotly_dark'\n",
        "\n",
        "import seaborn as sns"
      ],
      "execution_count": 2,
      "outputs": []
    },
    {
      "cell_type": "code",
      "metadata": {
        "ExecuteTime": {
          "end_time": "2021-06-04T14:20:12.879817Z",
          "start_time": "2021-06-04T14:20:12.821881Z"
        },
        "id": "mpYJgKsGf-Oj",
        "outputId": "8fb0cab2-3c50-4a95-a5f9-0ba41092cb84",
        "colab": {
          "resources": {
            "http://localhost:8080/nbextensions/google.colab/files.js": {
              "data": "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",
              "ok": true,
              "headers": [
                [
                  "content-type",
                  "application/javascript"
                ]
              ],
              "status": 200,
              "status_text": ""
            }
          },
          "base_uri": "https://localhost:8080/",
          "height": 184
        }
      },
      "source": [
        "from google.colab import files\n",
        "movfile = files.upload()\n",
        "ratefile = files.upload()\n",
        "tagfile = files.upload()\n",
        "movies = pd.read_csv('movies.csv')\n",
        "ratings = pd.read_csv('ratings.csv')\n",
        "tags = pd.read_csv('tags.csv')"
      ],
      "execution_count": 4,
      "outputs": [
        {
          "output_type": "display_data",
          "data": {
            "text/html": [
              "\n",
              "     <input type=\"file\" id=\"files-6bc612da-0d43-446a-b5c6-3957baca2194\" name=\"files[]\" multiple disabled\n",
              "        style=\"border:none\" />\n",
              "     <output id=\"result-6bc612da-0d43-446a-b5c6-3957baca2194\">\n",
              "      Upload widget is only available when the cell has been executed in the\n",
              "      current browser session. Please rerun this cell to enable.\n",
              "      </output>\n",
              "      <script src=\"/nbextensions/google.colab/files.js\"></script> "
            ],
            "text/plain": [
              "<IPython.core.display.HTML object>"
            ]
          },
          "metadata": {
            "tags": []
          }
        },
        {
          "output_type": "stream",
          "text": [
            "Saving movies.csv to movies.csv\n"
          ],
          "name": "stdout"
        },
        {
          "output_type": "display_data",
          "data": {
            "text/html": [
              "\n",
              "     <input type=\"file\" id=\"files-4a3275e1-8119-4dd2-b152-647f647db495\" name=\"files[]\" multiple disabled\n",
              "        style=\"border:none\" />\n",
              "     <output id=\"result-4a3275e1-8119-4dd2-b152-647f647db495\">\n",
              "      Upload widget is only available when the cell has been executed in the\n",
              "      current browser session. Please rerun this cell to enable.\n",
              "      </output>\n",
              "      <script src=\"/nbextensions/google.colab/files.js\"></script> "
            ],
            "text/plain": [
              "<IPython.core.display.HTML object>"
            ]
          },
          "metadata": {
            "tags": []
          }
        },
        {
          "output_type": "stream",
          "text": [
            "Saving ratings.csv to ratings.csv\n"
          ],
          "name": "stdout"
        },
        {
          "output_type": "display_data",
          "data": {
            "text/html": [
              "\n",
              "     <input type=\"file\" id=\"files-fc282c03-0bea-4bcb-9e0c-1b32538fbcb0\" name=\"files[]\" multiple disabled\n",
              "        style=\"border:none\" />\n",
              "     <output id=\"result-fc282c03-0bea-4bcb-9e0c-1b32538fbcb0\">\n",
              "      Upload widget is only available when the cell has been executed in the\n",
              "      current browser session. Please rerun this cell to enable.\n",
              "      </output>\n",
              "      <script src=\"/nbextensions/google.colab/files.js\"></script> "
            ],
            "text/plain": [
              "<IPython.core.display.HTML object>"
            ]
          },
          "metadata": {
            "tags": []
          }
        },
        {
          "output_type": "stream",
          "text": [
            "Saving tags.csv to tags.csv\n"
          ],
          "name": "stdout"
        }
      ]
    },
    {
      "cell_type": "markdown",
      "metadata": {
        "id": "yskjkwNSf-Ok"
      },
      "source": [
        "# Data Decription and Goal"
      ]
    },
    {
      "cell_type": "markdown",
      "metadata": {
        "id": "cSR1-nU1f-Ok"
      },
      "source": [
        "## Description"
      ]
    },
    {
      "cell_type": "markdown",
      "metadata": {
        "id": "IgZxwvtLf-Ok"
      },
      "source": [
        "This data is collected from the MovieLens dataset, which is created and curated by a research lab known as Grouplens Research. Grouplens Research is associated with the equally named website \"Grouplens\", which describes itself as 'a web site that helps people find movies to watch.\" \n",
        "<hr>\n",
        "The data is composed of 100,000 ratings and 3,600 tag applications applied to 9,000 movies by 600 users. It was last update in September of 2018."
      ]
    },
    {
      "cell_type": "markdown",
      "metadata": {
        "id": "zDE5RUmDf-Ol"
      },
      "source": [
        "\n",
        "The data files used are the 'movies.csv, 'ratings.csv', and 'tags.csv' from the \"Small\" version of the dataset."
      ]
    },
    {
      "cell_type": "markdown",
      "metadata": {
        "id": "P81Z_3Z0f-Ol"
      },
      "source": [
        "## Goal"
      ]
    },
    {
      "cell_type": "markdown",
      "metadata": {
        "id": "wPtZg7uJf-Ol"
      },
      "source": [
        "Using this data, the goal of this project is to create both a Collaborative and Content-based recommender system. "
      ]
    },
    {
      "cell_type": "markdown",
      "metadata": {
        "id": "njrPWXnNf-Om"
      },
      "source": [
        "# Data Inspection and EDA"
      ]
    },
    {
      "cell_type": "markdown",
      "metadata": {
        "id": "ZiapDyaQf-Om"
      },
      "source": [
        "## Data Wrangling"
      ]
    },
    {
      "cell_type": "code",
      "metadata": {
        "ExecuteTime": {
          "end_time": "2021-06-04T04:49:12.425601Z",
          "start_time": "2021-06-04T04:49:12.397060Z"
        },
        "id": "crsaIhDFf-Om"
      },
      "source": [
        "# Inspect shape and structure of the DataFrame\n",
        "print(movies.shape)\n",
        "\n",
        "# Check for missing values\n",
        "display(movies.isna().sum())\n",
        "display(movies.head())\n",
        "\n",
        "# Change index so we can merge based on movieId later\n",
        "movies = movies.set_index('movieId')\n",
        "# movies.head()"
      ],
      "execution_count": null,
      "outputs": []
    },
    {
      "cell_type": "code",
      "metadata": {
        "ExecuteTime": {
          "end_time": "2021-06-04T04:49:12.441568Z",
          "start_time": "2021-06-04T04:49:12.428574Z"
        },
        "id": "f2ClbwhBf-Oo",
        "outputId": "ee36d9d3-c936-4e84-f6f2-8ef974d7a36f"
      },
      "source": [
        "# Investigate the shape and structure of the ratings df\n",
        "print(ratings.shape)\n",
        "\n",
        "# Check for missing values\n",
        "display(ratings.isna().sum())\n",
        "# ratings.head()"
      ],
      "execution_count": null,
      "outputs": [
        {
          "output_type": "stream",
          "text": [
            "(100836, 4)\n"
          ],
          "name": "stdout"
        },
        {
          "output_type": "display_data",
          "data": {
            "text/plain": [
              "userId       0\n",
              "movieId      0\n",
              "rating       0\n",
              "timestamp    0\n",
              "dtype: int64"
            ]
          },
          "metadata": {
            "tags": []
          }
        }
      ]
    },
    {
      "cell_type": "markdown",
      "metadata": {
        "id": "1eA94KEif-Oo"
      },
      "source": [
        "## EDA"
      ]
    },
    {
      "cell_type": "markdown",
      "metadata": {
        "id": "T5xYgKl4f-Oo"
      },
      "source": [
        "### Manipulating Data"
      ]
    },
    {
      "cell_type": "code",
      "metadata": {
        "ExecuteTime": {
          "end_time": "2021-06-04T04:49:12.965929Z",
          "start_time": "2021-06-04T04:49:12.443574Z"
        },
        "id": "SGcWVsYAf-Oo"
      },
      "source": [
        "# Let's merge the DataFrames based on the movieId column\n",
        "df = pd.merge(left=movies, right=ratings, on='movieId')\n",
        "\n",
        "# Let's make the genres column easier to work with\n",
        "df['genres'] = df.genres.str.split('|')\n",
        "\n",
        "# Let's create a dictionary that counts how many occurences of each genre there are\n",
        "Children = 0\n",
        "Crime = 0\n",
        "Romance = 0\n",
        "Western = 0\n",
        "Documentary = 0\n",
        "Sci_Fi = 0\n",
        "War = 0\n",
        "Film_Noir = 0\n",
        "Musical = 0\n",
        "Thriller = 0\n",
        "Adventure = 0\n",
        "Horror = 0\n",
        "Action = 0\n",
        "Comedy = 0\n",
        "no_genres_listed = 0\n",
        "Animation = 0\n",
        "Fantasy = 0\n",
        "Drama = 0\n",
        "IMAX = 0\n",
        "Mystery = 0\n",
        "\n",
        "# I think that I can use itertools to simplify this loop a lot\n",
        "for x in df.genres:\n",
        "    for a in x:\n",
        "        if a == 'Children':\n",
        "            Children += 1\n",
        "        elif a == 'Crime':\n",
        "            Crime += 1\n",
        "        elif a == 'Romance':\n",
        "            Romance += 1\n",
        "        elif a == 'Western':\n",
        "            Western =+ 1\n",
        "        elif a == 'Documentary':\n",
        "            Documentary += 1\n",
        "        elif a == 'Sci-Fi':\n",
        "            Sci_Fi += 1\n",
        "        elif a == 'War':\n",
        "            War += 1\n",
        "        elif a == 'Film-Noir':\n",
        "            Film_Noir += 1\n",
        "        elif a == 'Musical':\n",
        "            Musical += 1\n",
        "        elif a == 'Thriller':\n",
        "            Thriller += 1\n",
        "        elif a == 'Adventure':\n",
        "            Adventure += 1\n",
        "        elif a == 'Horror':\n",
        "            Horror += 1\n",
        "        elif a == 'Action':\n",
        "            Action += 1\n",
        "        elif a == 'Comedy':\n",
        "            Comedy += 1\n",
        "        elif a == '(no genres listed)':\n",
        "            no_genres_listed += 1\n",
        "        elif a == 'Animation':\n",
        "            Animation += 1\n",
        "        elif a == 'Fantasy':\n",
        "            Fantasy += 1\n",
        "        elif a == 'Drama':\n",
        "            Drama += 1\n",
        "        elif a == 'IMAX':\n",
        "            IMAX += 1\n",
        "        elif a == 'Mystery':\n",
        "            Mystery += 1\n",
        "dic = {'Children':Children,\n",
        " 'Crime':Crime,\n",
        " 'Romance':Romance,\n",
        " 'Western':Western,\n",
        " 'Documentary':Documentary,\n",
        " 'Sci-Fi':Sci_Fi,\n",
        " 'War':War,\n",
        " 'Film-Noir':Film_Noir,\n",
        " 'Musical':Musical,\n",
        " 'Thriller':Thriller,\n",
        " 'Adventure':Adventure,\n",
        " 'Horror':Horror,\n",
        " 'Action':Action,\n",
        " 'Comedy':Comedy,\n",
        " '(no genres list:ed)':no_genres_listed,\n",
        " 'Animation':Animation,\n",
        " 'Fantasy':Fantasy,\n",
        " 'Drama':Drama,\n",
        " 'IMAX':IMAX,\n",
        " 'Mystery':Mystery}\n",
        "\n",
        "# Let's create a column that shows us the year that each of these movies were published\n",
        "years = []\n",
        "for title in df['title']:\n",
        "    year_subset = title[-5:-1]\n",
        "    try: years.append(int(year_subset))\n",
        "    except: years.append(0)\n",
        "df['Year of Publication'] = years\n",
        "\n",
        "# Let's exclude the movies without a year of publication since there are only 30 of them\n",
        "df = df[df['Year of Publication'] != 0]"
      ],
      "execution_count": 11,
      "outputs": []
    },
    {
      "cell_type": "code",
      "metadata": {
        "id": "6a6S5xahxdIa",
        "outputId": "e2031bab-6d32-4410-dccd-b7379cffd404",
        "colab": {
          "base_uri": "https://localhost:8080/"
        }
      },
      "source": [
        "dic"
      ],
      "execution_count": 13,
      "outputs": [
        {
          "output_type": "execute_result",
          "data": {
            "text/plain": [
              "{'(no genres list:ed)': 47,\n",
              " 'Action': 30635,\n",
              " 'Adventure': 24161,\n",
              " 'Animation': 6988,\n",
              " 'Children': 9208,\n",
              " 'Comedy': 39053,\n",
              " 'Crime': 16681,\n",
              " 'Documentary': 1219,\n",
              " 'Drama': 41928,\n",
              " 'Fantasy': 11834,\n",
              " 'Film-Noir': 870,\n",
              " 'Horror': 7291,\n",
              " 'IMAX': 4145,\n",
              " 'Musical': 4138,\n",
              " 'Mystery': 7674,\n",
              " 'Romance': 18124,\n",
              " 'Sci-Fi': 17243,\n",
              " 'Thriller': 26452,\n",
              " 'War': 4859,\n",
              " 'Western': 1}"
            ]
          },
          "metadata": {
            "tags": []
          },
          "execution_count": 13
        }
      ]
    },
    {
      "cell_type": "code",
      "metadata": {
        "ExecuteTime": {
          "end_time": "2021-06-04T04:49:12.981711Z",
          "start_time": "2021-06-04T04:49:12.967714Z"
        },
        "id": "zv-FpGVGf-Op",
        "outputId": "2b07cf40-e624-4298-ff60-48a3b2de0900",
        "colab": {
          "base_uri": "https://localhost:8080/"
        }
      },
      "source": [
        "# Let's check how many movies are in our DataFrame\n",
        "a = df['movieId'].nunique()\n",
        "print(f'There are {a} total movies in the DataFrame!')\n",
        "\n",
        "# Let's see how many unique genres there are\n",
        "\n",
        "print('No of unique genres in the DATAFRAME is:', len(list(dic.keys())))"
      ],
      "execution_count": 14,
      "outputs": [
        {
          "output_type": "stream",
          "text": [
            "There are 9701 total movies in the DataFrame!\n",
            "No of unique genres in the DATAFRAME is: 20\n"
          ],
          "name": "stdout"
        }
      ]
    },
    {
      "cell_type": "markdown",
      "metadata": {
        "id": "ahLwpbgLf-Op"
      },
      "source": [
        "### Visualizations and EDA"
      ]
    },
    {
      "cell_type": "code",
      "metadata": {
        "ExecuteTime": {
          "end_time": "2021-06-04T04:49:16.338656Z",
          "start_time": "2021-06-04T04:49:12.983741Z"
        },
        "id": "brkAIuOWf-Oq",
        "outputId": "bc1ef578-149c-4fab-b6d1-3db745966fbb",
        "colab": {
          "base_uri": "https://localhost:8080/",
          "height": 1000
        }
      },
      "source": [
        "fig, ax = plt.subplots(4,1,figsize=(15, 15))\n",
        "\n",
        "# Plot year distribution\n",
        "ax[0].hist(x=df['Year of Publication'], bins=40)\n",
        "ax[0].set_xlabel('Year')\n",
        "ax[0].set_ylabel('Count')\n",
        "ax[0].set_title('Year of Publication Distribution')\n",
        "\n",
        "# Plot genre distribution\n",
        "ax[1].bar(dic.keys(), dic.values())\n",
        "ax[1].set_xlabel('Genres')\n",
        "ax[1].set_title('Genre Distribution')\n",
        "ax[1].set_xticks(ticks=list(dic.keys()))\n",
        "ax[1].set_xticklabels(labels = list(dic.keys()),rotation=70)\n",
        "ax[1].set_ylabel('Count')\n",
        "\n",
        "# Plot rating distribution\n",
        "result1 = df.groupby(['rating']).size()\n",
        "sns.barplot(x = result1.index, ax=ax[2],  y=result1.values).set_title('Ratings Count Bar')\n",
        "ax[2].set_ylabel('Count')\n",
        "\n",
        "# Plot the number of ratings distibution\n",
        "num = pd.DataFrame(df.groupby('movieId').count()['rating']).reset_index()\n",
        "df = pd.merge(left=df, right=num, on='movieId')\n",
        "df.rename(columns={'rating_x': 'rating', 'rating_y': 'Number of Ratings'}, inplace=True)\n",
        "\n",
        "ax[3].hist(df['Number of Ratings'])\n",
        "ax[3].set_ylabel('Count')\n",
        "ax[3].set_title('Number of Ratings Distribution')\n",
        "\n",
        "plt.tight_layout()\n",
        "\n",
        "plt.savefig('EDA')\n"
      ],
      "execution_count": 15,
      "outputs": [
        {
          "output_type": "display_data",
          "data": {
            "image/png": "[encoded data removed]",
            "text/plain": [
              "<Figure size 1080x1080 with 4 Axes>"
            ]
          },
          "metadata": {
            "tags": []
          }
        }
      ]
    },
    {
      "cell_type": "code",
      "metadata": {
        "id": "Y_fGY2aNxzI4",
        "outputId": "b65d79d0-6987-473c-f0df-5e9d13fec3c7",
        "colab": {
          "base_uri": "https://localhost:8080/"
        }
      },
      "source": [
        "df.columns"
      ],
      "execution_count": 16,
      "outputs": [
        {
          "output_type": "execute_result",
          "data": {
            "text/plain": [
              "Index(['movieId', 'title', 'genres', 'userId', 'rating', 'timestamp',\n",
              "       'Year of Publication', 'Number of Ratings'],\n",
              "      dtype='object')"
            ]
          },
          "metadata": {
            "tags": []
          },
          "execution_count": 16
        }
      ]
    },
    {
      "cell_type": "markdown",
      "metadata": {
        "id": "W5JPg9QDf-Or"
      },
      "source": [
        "Using these visualizations, we can make several conclusions concerning the data!\n",
        "1. Most movies in this dataset were made around the year 2000. \n",
        "2. The three most frequent genres are drama, comedy, and action. There are no surprises there, as Western films tend to lean towards these highly successful genre choices. \n",
        "3. Most of the movies were rate at a 3 or a 4. Many less movies were rated between 0.5 and 2.5, which potentially indicates that this dataset had a decent selection of movies!\n",
        "4. A lot of movies didn't have a lot of ratings. The most ratings you'll find for one movie is roughly 300 ratings. On average, movies were rated between 1 and 50 times!\n"
      ]
    },
    {
      "cell_type": "code",
      "metadata": {
        "id": "2FtaDyxWxoto",
        "outputId": "3f4269ab-66d4-4f18-bbeb-c4c695d5ee81",
        "colab": {
          "base_uri": "https://localhost:8080/",
          "height": 471
        }
      },
      "source": [
        "df.groupby('genres')['rating'].mean()\n",
        "\n",
        "# Need to find a way to do this ASAP"
      ],
      "execution_count": 17,
      "outputs": [
        {
          "output_type": "error",
          "ename": "TypeError",
          "evalue": "ignored",
          "traceback": [
            "\u001b[0;31m---------------------------------------------------------------------------\u001b[0m",
            "\u001b[0;31mTypeError\u001b[0m                                 Traceback (most recent call last)",
            "\u001b[0;32m<ipython-input-17-1fd92b276945>\u001b[0m in \u001b[0;36m<module>\u001b[0;34m()\u001b[0m\n\u001b[0;32m----> 1\u001b[0;31m \u001b[0mdf\u001b[0m\u001b[0;34m.\u001b[0m\u001b[0mgroupby\u001b[0m\u001b[0;34m(\u001b[0m\u001b[0;34m'genres'\u001b[0m\u001b[0;34m)\u001b[0m\u001b[0;34m[\u001b[0m\u001b[0;34m'rating'\u001b[0m\u001b[0;34m]\u001b[0m\u001b[0;34m.\u001b[0m\u001b[0mmean\u001b[0m\u001b[0;34m(\u001b[0m\u001b[0;34m)\u001b[0m\u001b[0;34m\u001b[0m\u001b[0;34m\u001b[0m\u001b[0m\n\u001b[0m",
            "\u001b[0;32m/usr/local/lib/python3.7/dist-packages/pandas/core/groupby/groupby.py\u001b[0m in \u001b[0;36mmean\u001b[0;34m(self, numeric_only)\u001b[0m\n\u001b[1;32m   1396\u001b[0m             \u001b[0;34m\"mean\"\u001b[0m\u001b[0;34m,\u001b[0m\u001b[0;34m\u001b[0m\u001b[0;34m\u001b[0m\u001b[0m\n\u001b[1;32m   1397\u001b[0m             \u001b[0malt\u001b[0m\u001b[0;34m=\u001b[0m\u001b[0;32mlambda\u001b[0m \u001b[0mx\u001b[0m\u001b[0;34m,\u001b[0m \u001b[0maxis\u001b[0m\u001b[0;34m:\u001b[0m \u001b[0mSeries\u001b[0m\u001b[0;34m(\u001b[0m\u001b[0mx\u001b[0m\u001b[0;34m)\u001b[0m\u001b[0;34m.\u001b[0m\u001b[0mmean\u001b[0m\u001b[0;34m(\u001b[0m\u001b[0mnumeric_only\u001b[0m\u001b[0;34m=\u001b[0m\u001b[0mnumeric_only\u001b[0m\u001b[0;34m)\u001b[0m\u001b[0;34m,\u001b[0m\u001b[0;34m\u001b[0m\u001b[0;34m\u001b[0m\u001b[0m\n\u001b[0;32m-> 1398\u001b[0;31m             \u001b[0mnumeric_only\u001b[0m\u001b[0;34m=\u001b[0m\u001b[0mnumeric_only\u001b[0m\u001b[0;34m,\u001b[0m\u001b[0;34m\u001b[0m\u001b[0;34m\u001b[0m\u001b[0m\n\u001b[0m\u001b[1;32m   1399\u001b[0m         )\n\u001b[1;32m   1400\u001b[0m \u001b[0;34m\u001b[0m\u001b[0m\n",
            "\u001b[0;32m/usr/local/lib/python3.7/dist-packages/pandas/core/groupby/groupby.py\u001b[0m in \u001b[0;36m_cython_agg_general\u001b[0;34m(self, how, alt, numeric_only, min_count)\u001b[0m\n\u001b[1;32m   1034\u001b[0m \u001b[0;34m\u001b[0m\u001b[0m\n\u001b[1;32m   1035\u001b[0m             result, agg_names = self.grouper.aggregate(\n\u001b[0;32m-> 1036\u001b[0;31m                 \u001b[0mobj\u001b[0m\u001b[0;34m.\u001b[0m\u001b[0m_values\u001b[0m\u001b[0;34m,\u001b[0m \u001b[0mhow\u001b[0m\u001b[0;34m,\u001b[0m \u001b[0mmin_count\u001b[0m\u001b[0;34m=\u001b[0m\u001b[0mmin_count\u001b[0m\u001b[0;34m\u001b[0m\u001b[0;34m\u001b[0m\u001b[0m\n\u001b[0m\u001b[1;32m   1037\u001b[0m             )\n\u001b[1;32m   1038\u001b[0m \u001b[0;34m\u001b[0m\u001b[0m\n",
            "\u001b[0;32m/usr/local/lib/python3.7/dist-packages/pandas/core/groupby/ops.py\u001b[0m in \u001b[0;36maggregate\u001b[0;34m(self, values, how, axis, min_count)\u001b[0m\n\u001b[1;32m    590\u001b[0m     ) -> Tuple[np.ndarray, Optional[List[str]]]:\n\u001b[1;32m    591\u001b[0m         return self._cython_operation(\n\u001b[0;32m--> 592\u001b[0;31m             \u001b[0;34m\"aggregate\"\u001b[0m\u001b[0;34m,\u001b[0m \u001b[0mvalues\u001b[0m\u001b[0;34m,\u001b[0m \u001b[0mhow\u001b[0m\u001b[0;34m,\u001b[0m \u001b[0maxis\u001b[0m\u001b[0;34m,\u001b[0m \u001b[0mmin_count\u001b[0m\u001b[0;34m=\u001b[0m\u001b[0mmin_count\u001b[0m\u001b[0;34m\u001b[0m\u001b[0;34m\u001b[0m\u001b[0m\n\u001b[0m\u001b[1;32m    593\u001b[0m         )\n\u001b[1;32m    594\u001b[0m \u001b[0;34m\u001b[0m\u001b[0m\n",
            "\u001b[0;32m/usr/local/lib/python3.7/dist-packages/pandas/core/groupby/ops.py\u001b[0m in \u001b[0;36m_cython_operation\u001b[0;34m(self, kind, values, how, axis, min_count, **kwargs)\u001b[0m\n\u001b[1;32m    513\u001b[0m         \u001b[0;32mif\u001b[0m \u001b[0mvdim\u001b[0m \u001b[0;34m==\u001b[0m \u001b[0;36m1\u001b[0m\u001b[0;34m:\u001b[0m\u001b[0;34m\u001b[0m\u001b[0;34m\u001b[0m\u001b[0m\n\u001b[1;32m    514\u001b[0m             \u001b[0mvalues\u001b[0m \u001b[0;34m=\u001b[0m \u001b[0mvalues\u001b[0m\u001b[0;34m[\u001b[0m\u001b[0;34m:\u001b[0m\u001b[0;34m,\u001b[0m \u001b[0;32mNone\u001b[0m\u001b[0;34m]\u001b[0m\u001b[0;34m\u001b[0m\u001b[0;34m\u001b[0m\u001b[0m\n\u001b[0;32m--> 515\u001b[0;31m             \u001b[0mout_shape\u001b[0m \u001b[0;34m=\u001b[0m \u001b[0;34m(\u001b[0m\u001b[0mself\u001b[0m\u001b[0;34m.\u001b[0m\u001b[0mngroups\u001b[0m\u001b[0;34m,\u001b[0m \u001b[0marity\u001b[0m\u001b[0;34m)\u001b[0m\u001b[0;34m\u001b[0m\u001b[0;34m\u001b[0m\u001b[0m\n\u001b[0m\u001b[1;32m    516\u001b[0m         \u001b[0;32melse\u001b[0m\u001b[0;34m:\u001b[0m\u001b[0;34m\u001b[0m\u001b[0;34m\u001b[0m\u001b[0m\n\u001b[1;32m    517\u001b[0m             \u001b[0;32mif\u001b[0m \u001b[0maxis\u001b[0m \u001b[0;34m>\u001b[0m \u001b[0;36m0\u001b[0m\u001b[0;34m:\u001b[0m\u001b[0;34m\u001b[0m\u001b[0;34m\u001b[0m\u001b[0m\n",
            "\u001b[0;32mpandas/_libs/properties.pyx\u001b[0m in \u001b[0;36mpandas._libs.properties.CachedProperty.__get__\u001b[0;34m()\u001b[0m\n",
            "\u001b[0;32m/usr/local/lib/python3.7/dist-packages/pandas/core/groupby/ops.py\u001b[0m in \u001b[0;36mngroups\u001b[0;34m(self)\u001b[0m\n\u001b[1;32m    302\u001b[0m     \u001b[0;34m@\u001b[0m\u001b[0mcache_readonly\u001b[0m\u001b[0;34m\u001b[0m\u001b[0;34m\u001b[0m\u001b[0m\n\u001b[1;32m    303\u001b[0m     \u001b[0;32mdef\u001b[0m \u001b[0mngroups\u001b[0m\u001b[0;34m(\u001b[0m\u001b[0mself\u001b[0m\u001b[0;34m)\u001b[0m \u001b[0;34m->\u001b[0m \u001b[0mint\u001b[0m\u001b[0;34m:\u001b[0m\u001b[0;34m\u001b[0m\u001b[0;34m\u001b[0m\u001b[0m\n\u001b[0;32m--> 304\u001b[0;31m         \u001b[0;32mreturn\u001b[0m \u001b[0mlen\u001b[0m\u001b[0;34m(\u001b[0m\u001b[0mself\u001b[0m\u001b[0;34m.\u001b[0m\u001b[0mresult_index\u001b[0m\u001b[0;34m)\u001b[0m\u001b[0;34m\u001b[0m\u001b[0;34m\u001b[0m\u001b[0m\n\u001b[0m\u001b[1;32m    305\u001b[0m \u001b[0;34m\u001b[0m\u001b[0m\n\u001b[1;32m    306\u001b[0m     \u001b[0;34m@\u001b[0m\u001b[0mproperty\u001b[0m\u001b[0;34m\u001b[0m\u001b[0;34m\u001b[0m\u001b[0m\n",
            "\u001b[0;32mpandas/_libs/properties.pyx\u001b[0m in \u001b[0;36mpandas._libs.properties.CachedProperty.__get__\u001b[0;34m()\u001b[0m\n",
            "\u001b[0;32m/usr/local/lib/python3.7/dist-packages/pandas/core/groupby/ops.py\u001b[0m in \u001b[0;36mresult_index\u001b[0;34m(self)\u001b[0m\n\u001b[1;32m    313\u001b[0m     \u001b[0;32mdef\u001b[0m \u001b[0mresult_index\u001b[0m\u001b[0;34m(\u001b[0m\u001b[0mself\u001b[0m\u001b[0;34m)\u001b[0m \u001b[0;34m->\u001b[0m \u001b[0mIndex\u001b[0m\u001b[0;34m:\u001b[0m\u001b[0;34m\u001b[0m\u001b[0;34m\u001b[0m\u001b[0m\n\u001b[1;32m    314\u001b[0m         \u001b[0;32mif\u001b[0m \u001b[0;32mnot\u001b[0m \u001b[0mself\u001b[0m\u001b[0;34m.\u001b[0m\u001b[0mcompressed\u001b[0m \u001b[0;32mand\u001b[0m \u001b[0mlen\u001b[0m\u001b[0;34m(\u001b[0m\u001b[0mself\u001b[0m\u001b[0;34m.\u001b[0m\u001b[0mgroupings\u001b[0m\u001b[0;34m)\u001b[0m \u001b[0;34m==\u001b[0m \u001b[0;36m1\u001b[0m\u001b[0;34m:\u001b[0m\u001b[0;34m\u001b[0m\u001b[0;34m\u001b[0m\u001b[0m\n\u001b[0;32m--> 315\u001b[0;31m             \u001b[0;32mreturn\u001b[0m \u001b[0mself\u001b[0m\u001b[0;34m.\u001b[0m\u001b[0mgroupings\u001b[0m\u001b[0;34m[\u001b[0m\u001b[0;36m0\u001b[0m\u001b[0;34m]\u001b[0m\u001b[0;34m.\u001b[0m\u001b[0mresult_index\u001b[0m\u001b[0;34m.\u001b[0m\u001b[0mrename\u001b[0m\u001b[0;34m(\u001b[0m\u001b[0mself\u001b[0m\u001b[0;34m.\u001b[0m\u001b[0mnames\u001b[0m\u001b[0;34m[\u001b[0m\u001b[0;36m0\u001b[0m\u001b[0;34m]\u001b[0m\u001b[0;34m)\u001b[0m\u001b[0;34m\u001b[0m\u001b[0;34m\u001b[0m\u001b[0m\n\u001b[0m\u001b[1;32m    316\u001b[0m \u001b[0;34m\u001b[0m\u001b[0m\n\u001b[1;32m    317\u001b[0m         \u001b[0mcodes\u001b[0m \u001b[0;34m=\u001b[0m \u001b[0mself\u001b[0m\u001b[0;34m.\u001b[0m\u001b[0mreconstructed_codes\u001b[0m\u001b[0;34m\u001b[0m\u001b[0;34m\u001b[0m\u001b[0m\n",
            "\u001b[0;32mpandas/_libs/properties.pyx\u001b[0m in \u001b[0;36mpandas._libs.properties.CachedProperty.__get__\u001b[0;34m()\u001b[0m\n",
            "\u001b[0;32m/usr/local/lib/python3.7/dist-packages/pandas/core/groupby/grouper.py\u001b[0m in \u001b[0;36mresult_index\u001b[0;34m(self)\u001b[0m\n\u001b[1;32m    575\u001b[0m         \u001b[0;32mif\u001b[0m \u001b[0mself\u001b[0m\u001b[0;34m.\u001b[0m\u001b[0mall_grouper\u001b[0m \u001b[0;32mis\u001b[0m \u001b[0;32mnot\u001b[0m \u001b[0;32mNone\u001b[0m\u001b[0;34m:\u001b[0m\u001b[0;34m\u001b[0m\u001b[0;34m\u001b[0m\u001b[0m\n\u001b[1;32m    576\u001b[0m             \u001b[0;32mreturn\u001b[0m \u001b[0mrecode_from_groupby\u001b[0m\u001b[0;34m(\u001b[0m\u001b[0mself\u001b[0m\u001b[0;34m.\u001b[0m\u001b[0mall_grouper\u001b[0m\u001b[0;34m,\u001b[0m \u001b[0mself\u001b[0m\u001b[0;34m.\u001b[0m\u001b[0msort\u001b[0m\u001b[0;34m,\u001b[0m \u001b[0mself\u001b[0m\u001b[0;34m.\u001b[0m\u001b[0mgroup_index\u001b[0m\u001b[0;34m)\u001b[0m\u001b[0;34m\u001b[0m\u001b[0;34m\u001b[0m\u001b[0m\n\u001b[0;32m--> 577\u001b[0;31m         \u001b[0;32mreturn\u001b[0m \u001b[0mself\u001b[0m\u001b[0;34m.\u001b[0m\u001b[0mgroup_index\u001b[0m\u001b[0;34m\u001b[0m\u001b[0;34m\u001b[0m\u001b[0m\n\u001b[0m\u001b[1;32m    578\u001b[0m \u001b[0;34m\u001b[0m\u001b[0m\n\u001b[1;32m    579\u001b[0m     \u001b[0;34m@\u001b[0m\u001b[0mproperty\u001b[0m\u001b[0;34m\u001b[0m\u001b[0;34m\u001b[0m\u001b[0m\n",
            "\u001b[0;32m/usr/local/lib/python3.7/dist-packages/pandas/core/groupby/grouper.py\u001b[0m in \u001b[0;36mgroup_index\u001b[0;34m(self)\u001b[0m\n\u001b[1;32m    580\u001b[0m     \u001b[0;32mdef\u001b[0m \u001b[0mgroup_index\u001b[0m\u001b[0;34m(\u001b[0m\u001b[0mself\u001b[0m\u001b[0;34m)\u001b[0m \u001b[0;34m->\u001b[0m \u001b[0mIndex\u001b[0m\u001b[0;34m:\u001b[0m\u001b[0;34m\u001b[0m\u001b[0;34m\u001b[0m\u001b[0m\n\u001b[1;32m    581\u001b[0m         \u001b[0;32mif\u001b[0m \u001b[0mself\u001b[0m\u001b[0;34m.\u001b[0m\u001b[0m_group_index\u001b[0m \u001b[0;32mis\u001b[0m \u001b[0;32mNone\u001b[0m\u001b[0;34m:\u001b[0m\u001b[0;34m\u001b[0m\u001b[0;34m\u001b[0m\u001b[0m\n\u001b[0;32m--> 582\u001b[0;31m             \u001b[0mself\u001b[0m\u001b[0;34m.\u001b[0m\u001b[0m_make_codes\u001b[0m\u001b[0;34m(\u001b[0m\u001b[0;34m)\u001b[0m\u001b[0;34m\u001b[0m\u001b[0;34m\u001b[0m\u001b[0m\n\u001b[0m\u001b[1;32m    583\u001b[0m         \u001b[0;32massert\u001b[0m \u001b[0mself\u001b[0m\u001b[0;34m.\u001b[0m\u001b[0m_group_index\u001b[0m \u001b[0;32mis\u001b[0m \u001b[0;32mnot\u001b[0m \u001b[0;32mNone\u001b[0m\u001b[0;34m\u001b[0m\u001b[0;34m\u001b[0m\u001b[0m\n\u001b[1;32m    584\u001b[0m         \u001b[0;32mreturn\u001b[0m \u001b[0mself\u001b[0m\u001b[0;34m.\u001b[0m\u001b[0m_group_index\u001b[0m\u001b[0;34m\u001b[0m\u001b[0;34m\u001b[0m\u001b[0m\n",
            "\u001b[0;32m/usr/local/lib/python3.7/dist-packages/pandas/core/groupby/grouper.py\u001b[0m in \u001b[0;36m_make_codes\u001b[0;34m(self)\u001b[0m\n\u001b[1;32m    597\u001b[0m                     \u001b[0mna_sentinel\u001b[0m \u001b[0;34m=\u001b[0m \u001b[0;34m-\u001b[0m\u001b[0;36m1\u001b[0m\u001b[0;34m\u001b[0m\u001b[0;34m\u001b[0m\u001b[0m\n\u001b[1;32m    598\u001b[0m                 codes, uniques = algorithms.factorize(\n\u001b[0;32m--> 599\u001b[0;31m                     \u001b[0mself\u001b[0m\u001b[0;34m.\u001b[0m\u001b[0mgrouper\u001b[0m\u001b[0;34m,\u001b[0m \u001b[0msort\u001b[0m\u001b[0;34m=\u001b[0m\u001b[0mself\u001b[0m\u001b[0;34m.\u001b[0m\u001b[0msort\u001b[0m\u001b[0;34m,\u001b[0m \u001b[0mna_sentinel\u001b[0m\u001b[0;34m=\u001b[0m\u001b[0mna_sentinel\u001b[0m\u001b[0;34m\u001b[0m\u001b[0;34m\u001b[0m\u001b[0m\n\u001b[0m\u001b[1;32m    600\u001b[0m                 )\n\u001b[1;32m    601\u001b[0m                 \u001b[0muniques\u001b[0m \u001b[0;34m=\u001b[0m \u001b[0mIndex\u001b[0m\u001b[0;34m(\u001b[0m\u001b[0muniques\u001b[0m\u001b[0;34m,\u001b[0m \u001b[0mname\u001b[0m\u001b[0;34m=\u001b[0m\u001b[0mself\u001b[0m\u001b[0;34m.\u001b[0m\u001b[0mname\u001b[0m\u001b[0;34m)\u001b[0m\u001b[0;34m\u001b[0m\u001b[0;34m\u001b[0m\u001b[0m\n",
            "\u001b[0;32m/usr/local/lib/python3.7/dist-packages/pandas/core/algorithms.py\u001b[0m in \u001b[0;36mfactorize\u001b[0;34m(values, sort, na_sentinel, size_hint)\u001b[0m\n\u001b[1;32m    700\u001b[0m \u001b[0;34m\u001b[0m\u001b[0m\n\u001b[1;32m    701\u001b[0m         codes, uniques = _factorize_array(\n\u001b[0;32m--> 702\u001b[0;31m             \u001b[0mvalues\u001b[0m\u001b[0;34m,\u001b[0m \u001b[0mna_sentinel\u001b[0m\u001b[0;34m=\u001b[0m\u001b[0mna_sentinel\u001b[0m\u001b[0;34m,\u001b[0m \u001b[0msize_hint\u001b[0m\u001b[0;34m=\u001b[0m\u001b[0msize_hint\u001b[0m\u001b[0;34m,\u001b[0m \u001b[0mna_value\u001b[0m\u001b[0;34m=\u001b[0m\u001b[0mna_value\u001b[0m\u001b[0;34m\u001b[0m\u001b[0;34m\u001b[0m\u001b[0m\n\u001b[0m\u001b[1;32m    703\u001b[0m         )\n\u001b[1;32m    704\u001b[0m \u001b[0;34m\u001b[0m\u001b[0m\n",
            "\u001b[0;32m/usr/local/lib/python3.7/dist-packages/pandas/core/algorithms.py\u001b[0m in \u001b[0;36m_factorize_array\u001b[0;34m(values, na_sentinel, size_hint, na_value, mask)\u001b[0m\n\u001b[1;32m    509\u001b[0m     \u001b[0mtable\u001b[0m \u001b[0;34m=\u001b[0m \u001b[0mhash_klass\u001b[0m\u001b[0;34m(\u001b[0m\u001b[0msize_hint\u001b[0m \u001b[0;32mor\u001b[0m \u001b[0mlen\u001b[0m\u001b[0;34m(\u001b[0m\u001b[0mvalues\u001b[0m\u001b[0;34m)\u001b[0m\u001b[0;34m)\u001b[0m\u001b[0;34m\u001b[0m\u001b[0;34m\u001b[0m\u001b[0m\n\u001b[1;32m    510\u001b[0m     uniques, codes = table.factorize(\n\u001b[0;32m--> 511\u001b[0;31m         \u001b[0mvalues\u001b[0m\u001b[0;34m,\u001b[0m \u001b[0mna_sentinel\u001b[0m\u001b[0;34m=\u001b[0m\u001b[0mna_sentinel\u001b[0m\u001b[0;34m,\u001b[0m \u001b[0mna_value\u001b[0m\u001b[0;34m=\u001b[0m\u001b[0mna_value\u001b[0m\u001b[0;34m,\u001b[0m \u001b[0mmask\u001b[0m\u001b[0;34m=\u001b[0m\u001b[0mmask\u001b[0m\u001b[0;34m\u001b[0m\u001b[0;34m\u001b[0m\u001b[0m\n\u001b[0m\u001b[1;32m    512\u001b[0m     )\n\u001b[1;32m    513\u001b[0m \u001b[0;34m\u001b[0m\u001b[0m\n",
            "\u001b[0;32mpandas/_libs/hashtable_class_helper.pxi\u001b[0m in \u001b[0;36mpandas._libs.hashtable.PyObjectHashTable.factorize\u001b[0;34m()\u001b[0m\n",
            "\u001b[0;32mpandas/_libs/hashtable_class_helper.pxi\u001b[0m in \u001b[0;36mpandas._libs.hashtable.PyObjectHashTable._unique\u001b[0;34m()\u001b[0m\n",
            "\u001b[0;31mTypeError\u001b[0m: unhashable type: 'list'"
          ]
        }
      ]
    },
    {
      "cell_type": "markdown",
      "metadata": {
        "id": "tpfHyx8ef-Or"
      },
      "source": [
        "# Modeling the Recommendation Systems"
      ]
    },
    {
      "cell_type": "code",
      "metadata": {
        "ExecuteTime": {
          "end_time": "2021-06-04T14:20:19.865302Z",
          "start_time": "2021-06-04T14:20:19.744243Z"
        },
        "id": "DhpU90Msf-Or"
      },
      "source": [
        "from surprise.model_selection import train_test_split\n",
        "from surprise import Dataset\n",
        "from surprise import Reader\n",
        "from surprise import accuracy\n",
        "from surprise.prediction_algorithms import KNNWithMeans, KNNBasic, KNNBaseline, KNNWithZScore\n",
        "from surprise.prediction_algorithms import SVD\n",
        "from surprise.model_selection import GridSearchCV\n",
        "from surprise.model_selection import cross_validate\n",
        "from surprise import SVD, SVDpp, NMF\n",
        "from surprise import SlopeOne, CoClustering"
      ],
      "execution_count": null,
      "outputs": []
    },
    {
      "cell_type": "markdown",
      "metadata": {
        "id": "K4uJzqhsf-Or"
      },
      "source": [
        "**EVALUTATION METRIC**\n",
        "<br>\n",
        "\n",
        "For our modeling, we will be using RMSE for our data! RMSE is an excellent evaluation metric for when you want to penalize larger errors. This means that it is best to use RMSE if a bigger error means more to your problem in context than a smaller error. If a smaller error were to be just as detrimental as a larger error, then MAE could be used.\n",
        "\n",
        "In our case, we are using ratings. Let's say a user gave a rating of 10, and we had two models, with model 1 predicting a rating of 5 and model 2 predicting a rating of 2. Model 2 has a larger error, in the context of ratings, this means a lot. A movie with a recommendation of 2/10 is abysmal, while a movie with a recommendation of 5 can be considered mediocre. For all of us movie watchers, those ratings say very different things! This insinuates that larger error has a larger effect on the problem in context, and therefore RMSE is preferred."
      ]
    },
    {
      "cell_type": "markdown",
      "metadata": {
        "id": "XriDqz05f-Os"
      },
      "source": [
        "### Collaborative Filtering "
      ]
    },
    {
      "cell_type": "markdown",
      "metadata": {
        "id": "1k8OxHYHf-Os"
      },
      "source": [
        "Collaborative filtering is the most common form of recommendation systems. So common, that it is usually insinuated that you are using collaborative filtering when you are referencing recommendation systems in general. The idea is that you take the information concerning user's preferences and a specific metric such as \"ratings\", and convert this information for ALL users into a matrix. This matrix will have missing value for the items that a customer did not rate, and the job of the recommendation system is to use the data to find these missing values, and then make recommendations based on the findings. \n",
        "<br>\n",
        "\n",
        "So if there were 5 movies that a person had not seen yet, and the recommendation system gave the 5 movies a rating of 1/5, 2/5, 3/5, 4/5, 5/5 respectively, the recommender system would choose the movie that it predicts the person would rate the highest: in other words, it would recommend the movie that it thinks you would like most!!"
      ]
    },
    {
      "cell_type": "code",
      "metadata": {
        "ExecuteTime": {
          "end_time": "2021-06-04T14:20:33.159685Z",
          "start_time": "2021-06-04T14:20:32.953456Z"
        },
        "id": "DhtxmGQWf-Os",
        "outputId": "3b23f8e6-3876-4a53-e57b-963342648f08"
      },
      "source": [
        "reader = Reader(rating_scale=(0.5,5))\n",
        "data = Dataset.load_from_df(ratings.drop('timestamp', axis=1), reader)\n",
        "\n",
        "trainset = data.build_full_trainset()\n",
        "print('Number of users: ', trainset.n_users, '\\n')\n",
        "print('Number of items: ', trainset.n_items)"
      ],
      "execution_count": null,
      "outputs": [
        {
          "output_type": "stream",
          "text": [
            "Number of users:  610 \n",
            "\n",
            "Number of items:  9724\n"
          ],
          "name": "stdout"
        }
      ]
    },
    {
      "cell_type": "code",
      "metadata": {
        "ExecuteTime": {
          "end_time": "2021-06-04T04:49:31.297459Z",
          "start_time": "2021-06-04T04:49:16.706171Z"
        },
        "id": "kj-dYlN5f-Os"
      },
      "source": [
        "# kNN based\n",
        "knnbasic_cv = cross_validate(KNNBasic(), data, cv=5, n_jobs=-1)\n",
        "knnmeans_cv = cross_validate(KNNWithMeans(), data, cv=5, n_jobs=-1)\n",
        "knnz_cv = cross_validate(KNNWithZScore(), data, cv=5, n_jobs=-1)"
      ],
      "execution_count": null,
      "outputs": []
    },
    {
      "cell_type": "code",
      "metadata": {
        "ExecuteTime": {
          "end_time": "2021-06-04T05:03:11.340817Z",
          "start_time": "2021-06-04T04:49:31.299459Z"
        },
        "id": "XDBfOom_f-Ot"
      },
      "source": [
        "# Matrix Factorization Based\n",
        "svd_cv = cross_validate(SVD(), data, cv=5, n_jobs=-1)\n",
        "svdpp_cv = cross_validate(SVDpp(), data, cv=5, n_jobs=-1)\n",
        "nmf_cv = cross_validate(NMF(), data, cv=5, n_jobs=-1)"
      ],
      "execution_count": null,
      "outputs": []
    },
    {
      "cell_type": "code",
      "metadata": {
        "ExecuteTime": {
          "end_time": "2021-06-04T05:03:31.984758Z",
          "start_time": "2021-06-04T05:03:11.342535Z"
        },
        "id": "ime7DTAhf-Ot"
      },
      "source": [
        "# Other\n",
        "slope_cv = cross_validate(SlopeOne(), data, cv=5, n_jobs=-1)\n",
        "coclus_cv = cross_validate(CoClustering(), data, cv=5, n_jobs=-1)"
      ],
      "execution_count": null,
      "outputs": []
    },
    {
      "cell_type": "code",
      "metadata": {
        "ExecuteTime": {
          "end_time": "2021-06-04T05:03:32.628255Z",
          "start_time": "2021-06-04T05:03:31.986658Z"
        },
        "scrolled": false,
        "id": "vQumnZAKf-Ot",
        "outputId": "daf3a4e7-005f-42b6-d54f-9de385022929"
      },
      "source": [
        "x_algo = ['KNN Basic', 'KNN Means', 'KNN ZScore', 'SVD', 'SVDpp', 'NMF', 'SlopeOne', 'CoClustering']\n",
        "all_algos_cv = [knnbasic_cv, knnmeans_cv, knnz_cv, svd_cv, svdpp_cv, nmf_cv, slope_cv, coclus_cv]\n",
        "\n",
        "rmse_cv = [round(res['test_rmse'].mean(), 4) for res in all_algos_cv]\n",
        "mae_cv = [round(res['test_mae'].mean(), 4) for res in all_algos_cv]\n",
        "\n",
        "fig, ax = plt.subplots(1, 2, figsize=(20,10))\n",
        "\n",
        "ax[0].plot(x_algo, rmse_cv, label='RMSE')\n",
        "ax[0].set_title('RMSE Comparison')\n",
        "ax[0].set_xlabel('Algorithms')\n",
        "ax[0].set_ylabel('RMSE Value')\n",
        "\n",
        "\n",
        "ax[1].plot(x_algo, mae_cv, label='MAE')\n",
        "ax[1].set_title('MAE Comparison')\n",
        "ax[1].set_xlabel('Algorithms')\n",
        "ax[1].set_ylabel('MAE Value')\n",
        "\n",
        "ax[0].grid()\n",
        "ax[1].grid()\n",
        "\n",
        "plt.savefig('comparisons.png')\n",
        "# plt.show()"
      ],
      "execution_count": null,
      "outputs": [
        {
          "output_type": "display_data",
          "data": {
            "image/png": "[encoded data removed]",
            "text/plain": [
              "<Figure size 1440x720 with 2 Axes>"
            ]
          },
          "metadata": {
            "tags": []
          }
        }
      ]
    },
    {
      "cell_type": "markdown",
      "metadata": {
        "id": "uZGEg_Hkf-Ou"
      },
      "source": [
        "Using the cross-validation MAE and RMSE scores across a total of 8 different models, it is clear that the best performing model is the SVDpp model. The second most effective is the SVD model, and the third is the KNN ZScore model. For our final model, we will focus on the SVDpp model!"
      ]
    },
    {
      "cell_type": "code",
      "metadata": {
        "ExecuteTime": {
          "start_time": "2021-06-04T04:49:11.132Z"
        },
        "id": "xywWyt_Tf-Ou"
      },
      "source": [
        "final_model = SVDpp()\n",
        "grid = {'n_epochs': [5, 10, 20, 30], \n",
        "        'lr_all': [.0025, .005, .001, .01]}\n",
        "gs = GridSearchCV(SVD, grid, cv=5)\n",
        "gs.fit(data)\n",
        "\n",
        "print(gs.best_score)\n",
        "print(gs.best_params)"
      ],
      "execution_count": null,
      "outputs": []
    },
    {
      "cell_type": "code",
      "metadata": {
        "ExecuteTime": {
          "end_time": "2021-06-04T14:26:54.090501Z",
          "start_time": "2021-06-04T14:20:43.025426Z"
        },
        "scrolled": true,
        "id": "k-0bf-Rmf-Ou",
        "outputId": "87d6c5e8-5a99-410f-b5ec-847315fa76ea"
      },
      "source": [
        "j = SVDpp(n_epochs=10, lr_all=0.01)\n",
        "j.fit(trainset)"
      ],
      "execution_count": null,
      "outputs": [
        {
          "output_type": "execute_result",
          "data": {
            "text/plain": [
              "<surprise.prediction_algorithms.matrix_factorization.SVDpp at 0x25fed850220>"
            ]
          },
          "metadata": {
            "tags": []
          },
          "execution_count": 5
        }
      ]
    },
    {
      "cell_type": "code",
      "metadata": {
        "ExecuteTime": {
          "end_time": "2021-06-04T14:26:54.218572Z",
          "start_time": "2021-06-04T14:26:54.140501Z"
        },
        "id": "e22vNtT0f-Ou",
        "outputId": "5456ac6e-74de-4a26-c038-e12814c6fcb1"
      },
      "source": [
        "# make predictions for the user\n",
        "list_of_movies = []\n",
        "for m_id in movies.reset_index()['movieId'].unique():\n",
        "    list_of_movies.append((m_id, j.predict(1000,m_id)[3]))\n",
        "# order the predictions\n",
        "ranked_movies = sorted(list_of_movies, key=lambda x:x[1], reverse=True)\n",
        "\n",
        "# return the top n recommendations\n",
        "def recommended_movies(user_ratings,movie_title_df,n):\n",
        "        for idx, rec in enumerate(user_ratings):\n",
        "            title = movie_title_df.loc[movies.reset_index()['movieId'] == int(rec[0])]['title']\n",
        "            print(title)\n",
        "            n-= 1\n",
        "            if n == 0:\n",
        "                break\n",
        "            \n",
        "recommended_movies(ranked_movies,movies.reset_index(),5)"
      ],
      "execution_count": null,
      "outputs": [
        {
          "output_type": "stream",
          "text": [
            "277    Shawshank Redemption, The (1994)\n",
            "Name: title, dtype: object\n",
            "841    Streetcar Named Desire, A (1951)\n",
            "Name: title, dtype: object\n",
            "906    Lawrence of Arabia (1962)\n",
            "Name: title, dtype: object\n",
            "975    Cool Hand Luke (1967)\n",
            "Name: title, dtype: object\n",
            "6648    There Will Be Blood (2007)\n",
            "Name: title, dtype: object\n"
          ],
          "name": "stdout"
        }
      ]
    },
    {
      "cell_type": "markdown",
      "metadata": {
        "id": "rF7xfJpTf-Ov"
      },
      "source": [
        "### Content-Based Filtering"
      ]
    },
    {
      "cell_type": "markdown",
      "metadata": {
        "id": "6WkFrBi0f-Ov"
      },
      "source": [
        "With content-based filtering algorithms, you are given user's preferences, and then using those preferences, you identify items that relate most closely to the attributes of the preferred items.\n",
        "<br>\n",
        "\n",
        "Here is an example:\n",
        "<br>\n",
        "\n",
        "You decide to watch a Disney movie on Netflix. Netflix then could use a content-based filtering method to make recommendations of movies with similar attributes to a Disney movie.\n",
        "<br>\n",
        "\n",
        "What attributes does a Disney movie have? Some could say a Disney movie could be described as:\n",
        "- Funny\n",
        "- Musical\n",
        "- Inspiring\n",
        "Also a genre could be specified, such as being in the \"family\" genre\n",
        "<br>\n",
        "\n",
        "So the recommendation system will use these attributes and find other movies with the same attributes or similar ones!\n",
        "<br>\n",
        "\n",
        "For our recommendation system, we will not have to use the \"tags\" DataFrame that we did not use in our previous recommendation system that used collaborative filtering."
      ]
    },
    {
      "cell_type": "code",
      "metadata": {
        "ExecuteTime": {
          "end_time": "2021-06-04T14:26:54.439560Z",
          "start_time": "2021-06-04T14:26:54.313557Z"
        },
        "scrolled": true,
        "id": "k4rq2Vyvf-Ov",
        "outputId": "8cabc289-8851-4fb9-903a-0a5d62241bc0"
      },
      "source": [
        "# Create new DataFrame that incorporates tags\n",
        "movies.reset_index().drop_duplicates(subset='movieId', inplace=True)\n",
        "tags.drop_duplicates(subset='movieId', inplace=True)\n",
        "content_df = pd.merge(left=movies, right=tags, on='movieId')\n",
        "\n",
        "# Make a new column that combines all attributes (genres and tags)\n",
        "content_df['genres'] = content_df['genres'].apply(lambda x: ''.join(x.replace('|', ' ')).lower())\n",
        "def comb(row):\n",
        "    return row['genres']+' '+row['tag']\n",
        "content_df['genres and tags'] = content_df.apply(comb, axis=1)\n",
        "\n",
        "# Import TfidfVectorizer and linear_kernel\n",
        "from sklearn.feature_extraction.text import TfidfVectorizer\n",
        "from sklearn.metrics.pairwise import linear_kernel \n",
        "\n",
        "# Instantiate and fit_transform vectorizer\n",
        "tf = TfidfVectorizer()\n",
        "tfidf_matrix = tf.fit_transform(content_df['genres and tags'])\n",
        "\n",
        "# Construct similarity matrix\n",
        "from sklearn.metrics.pairwise import cosine_similarity\n",
        "similarity_matrix = cosine_similarity(tfidf_matrix)\n",
        "\n",
        "#movies index mapping\n",
        "similarity_matrix.shape"
      ],
      "execution_count": null,
      "outputs": [
        {
          "output_type": "execute_result",
          "data": {
            "text/plain": [
              "(1572, 1572)"
            ]
          },
          "metadata": {
            "tags": []
          },
          "execution_count": 7
        }
      ]
    },
    {
      "cell_type": "code",
      "metadata": {
        "ExecuteTime": {
          "end_time": "2021-06-04T14:26:54.579896Z",
          "start_time": "2021-06-04T14:26:54.566073Z"
        },
        "id": "0oVFesFFf-Ow"
      },
      "source": [
        "def recommend(title, num, cosine_sim = similarity_matrix):\n",
        "    recommended_movies = []\n",
        "    index = content_df[content_df['title'] == title].index[0]\n",
        "    similarity_scores = pd.Series(similarity_matrix[index]).sort_values(ascending = False)\n",
        "    top_10_movies = list(similarity_scores.iloc[1:num+1].index)\n",
        "    for i in top_10_movies:\n",
        "        recommended_movies.append(list(content_df['title'])[i])\n",
        "    return recommended_movies"
      ],
      "execution_count": null,
      "outputs": []
    },
    {
      "cell_type": "code",
      "metadata": {
        "ExecuteTime": {
          "end_time": "2021-06-04T14:26:54.707656Z",
          "start_time": "2021-06-04T14:26:54.692643Z"
        },
        "id": "cZstHlZff-Ow",
        "outputId": "317ca1d1-da0a-495f-cbb8-61b5185b10f8"
      },
      "source": [
        "recommend('Toy Story (1995)', 15)"
      ],
      "execution_count": null,
      "outputs": [
        {
          "output_type": "execute_result",
          "data": {
            "text/plain": [
              "[\"Bug's Life, A (1998)\",\n",
              " 'Toy Story 2 (1999)',\n",
              " 'Sintel (2010)',\n",
              " 'Up (2009)',\n",
              " 'Jumanji (1995)',\n",
              " 'Chronicles of Narnia: Prince Caspian, The (2008)',\n",
              " 'Watership Down (1978)',\n",
              " 'Cat Returns, The (Neko no ongaeshi) (2002)',\n",
              " \"Kiki's Delivery Service (Majo no takkyûbin) (1989)\",\n",
              " 'Alice in Wonderland (1951)',\n",
              " 'Sinbad: Legend of the Seven Seas (2003)',\n",
              " 'Who Framed Roger Rabbit? (1988)',\n",
              " 'Finding Nemo (2003)',\n",
              " 'Croods, The (2013)',\n",
              " 'The Lego Movie (2014)']"
            ]
          },
          "metadata": {
            "tags": []
          },
          "execution_count": 9
        }
      ]
    },
    {
      "cell_type": "code",
      "metadata": {
        "id": "vlY4Moh5f-Ow"
      },
      "source": [
        ""
      ],
      "execution_count": null,
      "outputs": []
    }
  ]
}