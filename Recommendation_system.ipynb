{
 "cells": [
  {
   "cell_type": "markdown",
   "metadata": {},
   "source": [
    "# MOVIELENS RECOMMENDATION SYSTEM: Collaborative and Content-Based"
   ]
  },
  {
   "cell_type": "markdown",
   "metadata": {},
   "source": [
    "# Load Libraries and Data"
   ]
  },
  {
   "cell_type": "code",
   "execution_count": 1,
   "metadata": {
    "ExecuteTime": {
     "end_time": "2021-06-03T22:31:46.901795Z",
     "start_time": "2021-06-03T22:31:44.364786Z"
    }
   },
   "outputs": [],
   "source": [
    "import pandas as pd\n",
    "\n",
    "import numpy as np\n",
    "\n",
    "import matplotlib.pyplot as plt\n",
    "plt.style.use('dark_background')\n",
    "\n",
    "import plotly.express as px\n",
    "import plotly.io as pio\n",
    "pio.templates.default = 'plotly_dark'\n",
    "\n",
    "import seaborn as sns"
   ]
  },
  {
   "cell_type": "code",
   "execution_count": 2,
   "metadata": {
    "ExecuteTime": {
     "end_time": "2021-06-03T22:31:46.965851Z",
     "start_time": "2021-06-03T22:31:46.902728Z"
    }
   },
   "outputs": [],
   "source": [
    "movies = pd.read_csv('movies.csv')\n",
    "ratings = pd.read_csv('ratings.csv')\n",
    "tags = pd.read_csv('tags.csv')"
   ]
  },
  {
   "cell_type": "markdown",
   "metadata": {},
   "source": [
    "# Data Decription and Goal"
   ]
  },
  {
   "cell_type": "markdown",
   "metadata": {},
   "source": [
    "## Description"
   ]
  },
  {
   "cell_type": "markdown",
   "metadata": {},
   "source": [
    "This data is collected from the MovieLens dataset, which is created and curated by a research lab known as Grouplens Research. Grouplens Research is associated with the equally named website \"Grouplens\", which describes itself as 'a web site that helps people find movies to watch.\" \n",
    "<hr>\n",
    "The data is composed of 100,000 ratings and 3,600 tag applications applied to 9,000 movies by 600 users. It was last update in September of 2018."
   ]
  },
  {
   "cell_type": "markdown",
   "metadata": {},
   "source": [
    "\n",
    "The data files used are the 'movies.csv, 'ratings.csv', and 'tags.csv' from the \"Small\" version of the dataset."
   ]
  },
  {
   "cell_type": "markdown",
   "metadata": {},
   "source": [
    "## Goal"
   ]
  },
  {
   "cell_type": "markdown",
   "metadata": {},
   "source": [
    "Using this data, the goal of this project is to create both a Collaborative and Content-based recommender system. "
   ]
  },
  {
   "cell_type": "markdown",
   "metadata": {},
   "source": [
    "# Data Inspection and EDA"
   ]
  },
  {
   "cell_type": "markdown",
   "metadata": {},
   "source": [
    "## Data Wrangling"
   ]
  },
  {
   "cell_type": "code",
   "execution_count": 3,
   "metadata": {
    "ExecuteTime": {
     "end_time": "2021-06-03T22:31:46.981619Z",
     "start_time": "2021-06-03T22:31:46.967566Z"
    }
   },
   "outputs": [
    {
     "name": "stdout",
     "output_type": "stream",
     "text": [
      "(9742, 3)\n"
     ]
    },
    {
     "data": {
      "text/plain": "movieId    0\ntitle      0\ngenres     0\ndtype: int64"
     },
     "metadata": {},
     "output_type": "display_data"
    }
   ],
   "source": [
    "# Inspect shape and structure of the DataFrame\n",
    "print(movies.shape)\n",
    "\n",
    "# Check for missing values\n",
    "display(movies.isna().sum())\n",
    "movies.head()\n",
    "\n",
    "# Change index so we can merge based on movieId later\n",
    "movies = movies.set_index('movieId')\n",
    "# movies.head()"
   ]
  },
  {
   "cell_type": "code",
   "execution_count": 4,
   "metadata": {
    "ExecuteTime": {
     "end_time": "2021-06-03T22:31:46.997569Z",
     "start_time": "2021-06-03T22:31:46.984583Z"
    }
   },
   "outputs": [
    {
     "name": "stdout",
     "output_type": "stream",
     "text": [
      "(100836, 4)\n"
     ]
    },
    {
     "data": {
      "text/plain": "userId       0\nmovieId      0\nrating       0\ntimestamp    0\ndtype: int64"
     },
     "metadata": {},
     "output_type": "display_data"
    }
   ],
   "source": [
    "# Investigate the shape and structure of the ratings df\n",
    "print(ratings.shape)\n",
    "\n",
    "# Check for missing values\n",
    "display(ratings.isna().sum())\n",
    "# ratings.head()"
   ]
  },
  {
   "cell_type": "markdown",
   "metadata": {},
   "source": [
    "## EDA"
   ]
  },
  {
   "cell_type": "markdown",
   "metadata": {},
   "source": [
    "### Manipulating Data"
   ]
  },
  {
   "cell_type": "code",
   "execution_count": 5,
   "metadata": {
    "ExecuteTime": {
     "end_time": "2021-06-03T22:31:47.411882Z",
     "start_time": "2021-06-03T22:31:46.999566Z"
    }
   },
   "outputs": [],
   "source": [
    "# Let's merge the DataFrames based on the movieId column\n",
    "df = pd.merge(left=movies, right=ratings, on='movieId')\n",
    "\n",
    "# Let's make the genres column easier to work with\n",
    "df['genres'] = df.genres.str.split('|')\n",
    "\n",
    "# Let's create a dictionary that counts how many occurences of each genre there are\n",
    "Children = 0\n",
    "Crime = 0\n",
    "Romance = 0\n",
    "Western = 0\n",
    "Documentary = 0\n",
    "Sci_Fi = 0\n",
    "War = 0\n",
    "Film_Noir = 0\n",
    "Musical = 0\n",
    "Thriller = 0\n",
    "Adventure = 0\n",
    "Horror = 0\n",
    "Action = 0\n",
    "Comedy = 0\n",
    "no_genres_listed = 0\n",
    "Animation = 0\n",
    "Fantasy = 0\n",
    "Drama = 0\n",
    "IMAX = 0\n",
    "Mystery = 0\n",
    "\n",
    "for x in df.genres:\n",
    "    for a in x:\n",
    "        if a == 'Children':\n",
    "            Children += 1\n",
    "        elif a == 'Crime':\n",
    "            Crime += 1\n",
    "        elif a == 'Romance':\n",
    "            Romance += 1\n",
    "        elif a == 'Western':\n",
    "            Western =+ 1\n",
    "        elif a == 'Documentary':\n",
    "            Documentary += 1\n",
    "        elif a == 'Sci-Fi':\n",
    "            Sci_Fi += 1\n",
    "        elif a == 'War':\n",
    "            War += 1\n",
    "        elif a == 'Film-Noir':\n",
    "            Film_Noir += 1\n",
    "        elif a == 'Musical':\n",
    "            Musical += 1\n",
    "        elif a == 'Thriller':\n",
    "            Thriller += 1\n",
    "        elif a == 'Adventure':\n",
    "            Adventure += 1\n",
    "        elif a == 'Horror':\n",
    "            Horror += 1\n",
    "        elif a == 'Action':\n",
    "            Action += 1\n",
    "        elif a == 'Comedy':\n",
    "            Comedy += 1\n",
    "        elif a == '(no genres listed)':\n",
    "            no_genres_listed += 1\n",
    "        elif a == 'Animation':\n",
    "            Animation += 1\n",
    "        elif a == 'Fantasy':\n",
    "            Fantasy += 1\n",
    "        elif a == 'Drama':\n",
    "            Drama += 1\n",
    "        elif a == 'IMAX':\n",
    "            IMAX += 1\n",
    "        elif a == 'Mystery':\n",
    "            Mystery += 1\n",
    "dic = {'Children':Children,\n",
    " 'Crime':Crime,\n",
    " 'Romance':Romance,\n",
    " 'Western':Western,\n",
    " 'Documentary':Documentary,\n",
    " 'Sci-Fi':Sci_Fi,\n",
    " 'War':War,\n",
    " 'Film-Noir':Film_Noir,\n",
    " 'Musical':Musical,\n",
    " 'Thriller':Thriller,\n",
    " 'Adventure':Adventure,\n",
    " 'Horror':Horror,\n",
    " 'Action':Action,\n",
    " 'Comedy':Comedy,\n",
    " '(no genres list:ed)':no_genres_listed,\n",
    " 'Animation':Animation,\n",
    " 'Fantasy':Fantasy,\n",
    " 'Drama':Drama,\n",
    " 'IMAX':IMAX,\n",
    " 'Mystery':Mystery}\n",
    "\n",
    "# Let's create a column that shows us the year that each of these movies were published\n",
    "years = []\n",
    "for title in df['title']:\n",
    "    year_subset = title[-5:-1]\n",
    "    try: years.append(int(year_subset))\n",
    "    except: years.append(0)\n",
    "df['Year of Publication'] = years\n",
    "\n",
    "# Let's exclude the movies without a year of publication since there are only 30 of them\n",
    "df = df[df['Year of Publication'] != 0]"
   ]
  },
  {
   "cell_type": "code",
   "execution_count": 6,
   "metadata": {
    "ExecuteTime": {
     "end_time": "2021-06-03T22:31:47.427604Z",
     "start_time": "2021-06-03T22:31:47.413567Z"
    }
   },
   "outputs": [
    {
     "name": "stdout",
     "output_type": "stream",
     "text": [
      "There are 9701 total movies in the DataFrame!\n",
      "No of unique genres in the DATAFRAME is: 20\n"
     ]
    }
   ],
   "source": [
    "# Let's check how many movies are in our DataFrame\n",
    "a = df['movieId'].nunique()\n",
    "print(f'There are {a} total movies in the DataFrame!')\n",
    "\n",
    "# Let's see how many unique genres there are\n",
    "\n",
    "print('No of unique genres in the DATAFRAME is:', len(list(dic.keys())))"
   ]
  },
  {
   "cell_type": "markdown",
   "metadata": {},
   "source": [
    "### Visualizations and EDA"
   ]
  },
  {
   "cell_type": "code",
   "execution_count": 7,
   "metadata": {
    "ExecuteTime": {
     "end_time": "2021-06-03T23:28:23.801544Z",
     "start_time": "2021-06-03T23:28:21.793291Z"
    }
   },
   "outputs": [
    {
     "data": {
      "image/png": "[encoded data removed]",
      "text/plain": "<Figure size 1080x1080 with 4 Axes>"
     },
     "metadata": {},
     "output_type": "display_data"
    }
   ],
   "source": [
    "fig, ax = plt.subplots(4,1,figsize=(15, 15))\n",
    "\n",
    "# Plot year distribution\n",
    "ax[0].hist(x=df['Year of Publication'], bins=40)\n",
    "ax[0].set_xlabel('Year')\n",
    "ax[0].set_ylabel('Count')\n",
    "ax[0].set_title('Year of Publication Distribution')\n",
    "\n",
    "# Plot genre distribution\n",
    "ax[1].bar(dic.keys(), dic.values())\n",
    "ax[1].set_xlabel('Genres')\n",
    "ax[1].set_title('Genre Distribution')\n",
    "ax[1].set_xticks(ticks=list(dic.keys()))\n",
    "ax[1].set_xticklabels(labels = list(dic.keys()),rotation=70)\n",
    "ax[1].set_ylabel('Count')\n",
    "\n",
    "# Plot rating distribution\n",
    "result1 = df.groupby(['rating']).size()\n",
    "sns.barplot(x = result1.index, ax=ax[2],  y=result1.values).set_title('Ratings Count Bar')\n",
    "ax[2].set_ylabel('Count')\n",
    "\n",
    "# Plot the number of ratings distibution\n",
    "num = pd.DataFrame(df.groupby('movieId').count()['rating']).reset_index()\n",
    "df = pd.merge(left=df, right=num, on='movieId')\n",
    "df.rename(columns={'rating_x': 'rating', 'rating_y': 'Number of Ratings'}, inplace=True)\n",
    "\n",
    "ax[3].hist(df['Number of Ratings'])\n",
    "ax[3].set_ylabel('Count')\n",
    "ax[3].set_title('Number of Ratings Distribution')\n",
    "\n",
    "plt.tight_layout()\n",
    "\n",
    "plt.savefig('EDA')\n"
   ]
  },
  {
   "cell_type": "markdown",
   "metadata": {},
   "source": [
    "Using these visualizations, we can make several conclusions concerning the data!\n",
    "1. Most movies in this dataset were made around the year 2000. \n",
    "2. The three most frequent genres are drama, comedy, and action. There are no surprises there, as Western films tend to lean towards these highly successful genre choices. \n",
    "3. Most of the movies were rate at a 3 or a 4. Many less movies were rated between 0.5 and 2.5, which potentially indicates that this dataset had a decent selection of movies!\n",
    "4. A lot of movies didn't have a lot of ratings. The most ratings you'll find for one movie is roughly 300 ratings. On average, movies were rated between 1 and 50 times!\n"
   ]
  },
  {
   "cell_type": "markdown",
   "metadata": {},
   "source": [
    "# Modeling the Recommendation Systems"
   ]
  },
  {
   "cell_type": "code",
   "execution_count": 8,
   "metadata": {
    "ExecuteTime": {
     "end_time": "2021-06-03T22:31:49.414048Z",
     "start_time": "2021-06-03T22:31:49.336579Z"
    }
   },
   "outputs": [],
   "source": [
    "from surprise.model_selection import train_test_split\n",
    "from surprise import Dataset\n",
    "from surprise import Reader\n",
    "from surprise import accuracy\n",
    "from surprise.prediction_algorithms import KNNWithMeans, KNNBasic, KNNBaseline, KNNWithZScore\n",
    "from surprise.prediction_algorithms import SVD\n",
    "from surprise.model_selection import GridSearchCV\n",
    "from surprise.model_selection import cross_validate\n",
    "from surprise import SVD, SVDpp, NMF\n",
    "from surprise import SlopeOne, CoClustering"
   ]
  },
  {
   "cell_type": "markdown",
   "metadata": {},
   "source": [
    "**EVALUTATION METRIC**\n",
    "<br>\n",
    "\n",
    "For our modeling, we will be using RMSE for our data! RMSE is an excellent evaluation metric for when you want to penalize larger errors. This means that it is best to use RMSE if a bigger error means more to your problem in context than a smaller error. If a smaller error were to be just as detrimental as a larger error, then MAE could be used.\n",
    "\n",
    "In our case, we are using ratings. Let's say a user gave a rating of 10, and we had two models, with model 1 predicting a rating of 5 and model 2 predicting a rating of 2. Model 2 has a larger error, in the context of ratings, this means a lot. A movie with a recommendation of 2/10 is abysmal, while a movie with a recommendation of 5 can be considered mediocre. For all of us movie watchers, those ratings say very different things! This insinuates that larger error has a larger effect on the problem in context, and therefore RMSE is preferred."
   ]
  },
  {
   "cell_type": "markdown",
   "metadata": {},
   "source": [
    "### Collaborative Filtering "
   ]
  },
  {
   "cell_type": "markdown",
   "metadata": {},
   "source": [
    "Collaborative filtering is the most common form of recommendation systems. So common, that it is usually insinuated that you are using collaborative filtering when you are referencing recommendation systems in general. The idea is that you take the information concerning user's preferences and a specific metric such as \"ratings\", and convert this information for ALL users into a matrix. This matrix will have missing value for the items that a customer did not rate, and the job of the recommendation system is to use the data to find these missing values, and then make recommendations based on the findings. \n",
    "<br>\n",
    "\n",
    "So if there were 5 movies that a person had not seen yet, and the recommendation system gave the 5 movies a rating of 1/5, 2/5, 3/5, 4/5, 5/5 respectively, the recommender system would choose the movie that it predicts the person would rate the highest: in other words, it would recommend the movie that it thinks you would like most!!"
   ]
  },
  {
   "cell_type": "code",
   "execution_count": 9,
   "metadata": {
    "ExecuteTime": {
     "end_time": "2021-06-03T22:31:49.573987Z",
     "start_time": "2021-06-03T22:31:49.416008Z"
    }
   },
   "outputs": [
    {
     "name": "stdout",
     "output_type": "stream",
     "text": [
      "Number of users:  610 \n",
      "\n",
      "Number of items:  9724\n"
     ]
    }
   ],
   "source": [
    "reader = Reader(rating_scale=(0.5,5))\n",
    "data = Dataset.load_from_df(ratings.drop('timestamp', axis=1), reader)\n",
    "\n",
    "trainset = data.build_full_trainset()\n",
    "print('Number of users: ', trainset.n_users, '\\n')\n",
    "print('Number of items: ', trainset.n_items)"
   ]
  },
  {
   "cell_type": "code",
   "execution_count": 10,
   "metadata": {
    "ExecuteTime": {
     "end_time": "2021-06-03T22:31:58.795120Z",
     "start_time": "2021-06-03T22:31:49.575987Z"
    }
   },
   "outputs": [],
   "source": [
    "# kNN based\r\n",
    "knnbasic_cv = cross_validate(KNNBasic(), data, cv=5, n_jobs=-1)\r\n",
    "knnmeans_cv = cross_validate(KNNWithMeans(), data, cv=5, n_jobs=-1)\r\n",
    "knnz_cv = cross_validate(KNNWithZScore(), data, cv=5, n_jobs=-1)"
   ]
  },
  {
   "cell_type": "code",
   "execution_count": 11,
   "metadata": {
    "ExecuteTime": {
     "end_time": "2021-06-03T22:42:39.454484Z",
     "start_time": "2021-06-03T22:31:58.797140Z"
    }
   },
   "outputs": [],
   "source": [
    "# Matrix Factorization Based\r\n",
    "svd_cv = cross_validate(SVD(), data, cv=5, n_jobs=-1)\r\n",
    "svdpp_cv = cross_validate(SVDpp(), data, cv=5, n_jobs=-1)\r\n",
    "nmf_cv = cross_validate(NMF(), data, cv=5, n_jobs=-1)"
   ]
  },
  {
   "cell_type": "code",
   "execution_count": null,
   "metadata": {
    "ExecuteTime": {
     "end_time": "2021-06-03T22:42:55.451447Z",
     "start_time": "2021-06-03T22:42:39.455484Z"
    }
   },
   "outputs": [],
   "source": [
    "# Other\r\n",
    "slope_cv = cross_validate(SlopeOne(), data, cv=5, n_jobs=-1)\r\n",
    "coclus_cv = cross_validate(CoClustering(), data, cv=5, n_jobs=-1)"
   ]
  },
  {
   "cell_type": "code",
   "execution_count": null,
   "metadata": {
    "ExecuteTime": {
     "end_time": "2021-06-03T23:27:38.623514Z",
     "start_time": "2021-06-03T23:27:38.182549Z"
    },
    "scrolled": false
   },
   "outputs": [],
   "source": [
    "x_algo = ['KNN Basic', 'KNN Means', 'KNN ZScore', 'SVD', 'SVDpp', 'NMF', 'SlopeOne', 'CoClustering']\n",
    "all_algos_cv = [knnbasic_cv, knnmeans_cv, knnz_cv, svd_cv, svdpp_cv, nmf_cv, slope_cv, coclus_cv]\n",
    "\n",
    "rmse_cv = [round(res['test_rmse'].mean(), 4) for res in all_algos_cv]\n",
    "mae_cv = [round(res['test_mae'].mean(), 4) for res in all_algos_cv]\n",
    "\n",
    "fig, ax = plt.subplots(1, 2, figsize=(20,10))\n",
    "\n",
    "ax[0].plot(x_algo, rmse_cv, label='RMSE')\n",
    "ax[0].set_title('RMSE Comparison')\n",
    "ax[0].set_xlabel('Algorithms')\n",
    "ax[0].set_ylabel('RMSE Value')\n",
    "\n",
    "\n",
    "ax[1].plot(x_algo, mae_cv, label='MAE')\n",
    "ax[1].set_title('MAE Comparison')\n",
    "ax[1].set_xlabel('Algorithms')\n",
    "ax[1].set_ylabel('MAE Value')\n",
    "\n",
    "ax[0].grid()\n",
    "ax[1].grid()\n",
    "\n",
    "plt.savefig('comparisons.png')\n",
    "# plt.show()"
   ]
  },
  {
   "cell_type": "markdown",
   "metadata": {},
   "source": [
    "Using the cross-validation MAE and RMSE scores across a total of 8 different models, it is clear that the best performing model is the SVDpp model. The second most effective is the SVD model, and the third is the KNN ZScore model. For our final model, we will focus on the SVDpp model!"
   ]
  },
  {
   "cell_type": "code",
   "execution_count": null,
   "metadata": {
    "ExecuteTime": {
     "end_time": "2021-06-03T22:47:17.167301Z",
     "start_time": "2021-06-03T22:42:56.345449Z"
    }
   },
   "outputs": [],
   "source": [
    "final_model = SVDpp()\n",
    "grid = {'n_epochs': [5, 10, 20, 30], \n",
    "        'lr_all': [.0025, .005, .001, .01]}\n",
    "gs = GridSearchCV(SVD, grid, cv=5)\n",
    "gs.fit(data)\n",
    "\n",
    "print(gs.best_score)\n",
    "print(gs.best_params)"
   ]
  },
  {
   "cell_type": "code",
   "execution_count": null,
   "metadata": {
    "ExecuteTime": {
     "end_time": "2021-06-03T22:52:39.841994Z",
     "start_time": "2021-06-03T22:47:17.168274Z"
    },
    "scrolled": true
   },
   "outputs": [
    {
     "data": {
      "text/plain": [
       "<surprise.prediction_algorithms.matrix_factorization.SVDpp at 0x2967e088a00>"
      ]
     },
     "execution_count": 15,
     "metadata": {},
     "output_type": "execute_result"
    }
   ],
   "source": [
    "j = SVDpp(n_epochs=10, lr_all=0.01)\n",
    "j.fit(trainset)"
   ]
  },
  {
   "cell_type": "code",
   "execution_count": null,
   "metadata": {
    "ExecuteTime": {
     "end_time": "2021-06-03T23:12:52.633311Z",
     "start_time": "2021-06-03T23:12:52.551051Z"
    }
   },
   "outputs": [
    {
     "name": "stdout",
     "output_type": "stream",
     "text": [
      "277    Shawshank Redemption, The (1994)\n",
      "Name: title, dtype: object\n",
      "841    Streetcar Named Desire, A (1951)\n",
      "Name: title, dtype: object\n",
      "906    Lawrence of Arabia (1962)\n",
      "Name: title, dtype: object\n",
      "602    Dr. Strangelove or: How I Learned to Stop Worr...\n",
      "Name: title, dtype: object\n",
      "680    Philadelphia Story, The (1940)\n",
      "Name: title, dtype: object\n"
     ]
    }
   ],
   "source": [
    "# make predictions for the user\n",
    "# you'll probably want to create a list of tuples in the format (movie_id, predicted_score)\n",
    "list_of_movies = []\n",
    "for m_id in movies.reset_index()['movieId'].unique():\n",
    "    list_of_movies.append((m_id, j.predict(1000,m_id)[3]))\n",
    "# order the predictions from highest to lowest rated\n",
    "ranked_movies = sorted(list_of_movies, key=lambda x:x[1], reverse=True)\n",
    "\n",
    "# return the top n recommendations using the \n",
    "def recommended_movies(user_ratings,movie_title_df,n):\n",
    "        for idx, rec in enumerate(user_ratings):\n",
    "            title = movie_title_df.loc[movies.reset_index()['movieId'] == int(rec[0])]['title']\n",
    "            print(title)\n",
    "            n-= 1\n",
    "            if n == 0:\n",
    "                break\n",
    "            \n",
    "recommended_movies(ranked_movies,movies.reset_index(),5)"
   ]
  },
  {
   "cell_type": "markdown",
   "metadata": {},
   "source": [
    "### Content-Based Filtering"
   ]
  },
  {
   "cell_type": "markdown",
   "metadata": {},
   "source": [
    "With content-based filtering algorithms, you are given user's preferences, and then using those preferences, you identify items that relate most closely to the attributes of the preferred items.\n",
    "<br>\n",
    "\n",
    "Here is an example:\n",
    "<br>\n",
    "\n",
    "You decide to watch a Disney movie on Netflix. Netflix then could use a content-based filtering method to make recommendations of movies with similar attributes to a Disney movie.\n",
    "<br>\n",
    "\n",
    "What attributes does a Disney movie have? Some could say a Disney movie could be described as:\n",
    "- Funny\n",
    "- Musical\n",
    "- Inspiring\n",
    "Also a genre could be specified, such as being in the \"family\" genre\n",
    "<br>\n",
    "\n",
    "So the recommendation system will use these attributes and find other movies with the same attributes or similar ones!\n",
    "<br>\n",
    "\n",
    "For our recommendation system, we will not have to use the \"tags\" DataFrame that we did not use in our previous recommendation system that used collaborative filtering."
   ]
  },
  {
   "cell_type": "code",
   "execution_count": null,
   "metadata": {
    "ExecuteTime": {
     "end_time": "2021-06-03T23:13:41.305714Z",
     "start_time": "2021-06-03T23:13:41.174406Z"
    },
    "scrolled": true
   },
   "outputs": [
    {
     "data": {
      "text/plain": [
       "(1572, 1572)"
      ]
     },
     "execution_count": 37,
     "metadata": {},
     "output_type": "execute_result"
    }
   ],
   "source": [
    "# Create new DataFrame that incorporates tags\n",
    "movies.reset_index().drop_duplicates(subset='movieId', inplace=True)\n",
    "tags.drop_duplicates(subset='movieId', inplace=True)\n",
    "content_df = pd.merge(left=movies, right=tags, on='movieId')\n",
    "\n",
    "# Make a new column that combines all attributes (genres and tags)\n",
    "content_df['genres'] = content_df['genres'].apply(lambda x: ''.join(x.replace('|', ' ')).lower())\n",
    "def comb(row):\n",
    "    return row['genres']+' '+row['tag']\n",
    "content_df['genres and tags'] = content_df.apply(comb, axis=1)\n",
    "\n",
    "# Import TfidfVectorizer and linear_kernel\n",
    "from sklearn.feature_extraction.text import TfidfVectorizer\n",
    "from sklearn.metrics.pairwise import linear_kernel \n",
    "\n",
    "# Instantiate and fit_transform vectorizer\n",
    "tf = TfidfVectorizer()\n",
    "tfidf_matrix = tf.fit_transform(content_df['genres and tags'])\n",
    "\n",
    "# Construct similarity matrix\n",
    "from sklearn.metrics.pairwise import cosine_similarity\n",
    "similarity_matrix = cosine_similarity(tfidf_matrix)\n",
    "\n",
    "#movies index mapping\n",
    "similarity_matrix.shape"
   ]
  },
  {
   "cell_type": "code",
   "execution_count": null,
   "metadata": {
    "ExecuteTime": {
     "end_time": "2021-06-03T23:14:24.650521Z",
     "start_time": "2021-06-03T23:14:24.641922Z"
    }
   },
   "outputs": [],
   "source": [
    "def recommend(title, num, cosine_sim = similarity_matrix):\n",
    "    recommended_movies = []\n",
    "    index = content_df[content_df['title'] == title].index[0]\n",
    "    similarity_scores = pd.Series(similarity_matrix[index]).sort_values(ascending = False)\n",
    "    top_10_movies = list(similarity_scores.iloc[1:num+1].index)\n",
    "    for i in top_10_movies:\n",
    "        recommended_movies.append(list(content_df['title'])[i])\n",
    "    return recommended_movies"
   ]
  },
  {
   "cell_type": "code",
   "execution_count": null,
   "metadata": {
    "ExecuteTime": {
     "end_time": "2021-06-03T23:14:31.129295Z",
     "start_time": "2021-06-03T23:14:31.112290Z"
    }
   },
   "outputs": [
    {
     "data": {
      "text/plain": [
       "[\"Bug's Life, A (1998)\",\n",
       " 'Toy Story 2 (1999)',\n",
       " 'Sintel (2010)',\n",
       " 'Up (2009)',\n",
       " 'Jumanji (1995)',\n",
       " 'Chronicles of Narnia: Prince Caspian, The (2008)',\n",
       " 'Watership Down (1978)',\n",
       " 'Cat Returns, The (Neko no ongaeshi) (2002)',\n",
       " \"Kiki's Delivery Service (Majo no takkyûbin) (1989)\",\n",
       " 'Alice in Wonderland (1951)',\n",
       " 'Sinbad: Legend of the Seven Seas (2003)',\n",
       " 'Who Framed Roger Rabbit? (1988)',\n",
       " 'Finding Nemo (2003)',\n",
       " 'Croods, The (2013)',\n",
       " 'The Lego Movie (2014)']"
      ]
     },
     "execution_count": 43,
     "metadata": {},
     "output_type": "execute_result"
    }
   ],
   "source": [
    "recommend('Toy Story (1995)', 15)"
   ]
  }
 ],
 "metadata": {
  "hide_input": false,
  "kernelspec": {
   "display_name": "learn-env",
   "language": "python",
   "name": "learn-env"
  },
  "language_info": {
   "codemirror_mode": {
    "name": "ipython",
    "version": 3
   },
   "file_extension": ".py",
   "mimetype": "text/x-python",
   "name": "python",
   "nbconvert_exporter": "python",
   "pygments_lexer": "ipython3",
   "version": "3.8.5"
  },
  "toc": {
   "base_numbering": 1,
   "nav_menu": {},
   "number_sections": true,
   "sideBar": true,
   "skip_h1_title": false,
   "title_cell": "Table of Contents",
   "title_sidebar": "Contents",
   "toc_cell": false,
   "toc_position": {},
   "toc_section_display": true,
   "toc_window_display": false
  },
  "varInspector": {
   "cols": {
    "lenName": 16,
    "lenType": 16,
    "lenVar": 40
   },
   "kernels_config": {
    "python": {
     "delete_cmd_postfix": "",
     "delete_cmd_prefix": "del ",
     "library": "var_list.py",
     "varRefreshCmd": "print(var_dic_list())"
    },
    "r": {
     "delete_cmd_postfix": ") ",
     "delete_cmd_prefix": "rm(",
     "library": "var_list.r",
     "varRefreshCmd": "cat(var_dic_list()) "
    }
   },
   "types_to_exclude": [
    "module",
    "function",
    "builtin_function_or_method",
    "instance",
    "_Feature"
   ],
   "window_display": false
  }
 },
 "nbformat": 4,
 "nbformat_minor": 2
}